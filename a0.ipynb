{
  "cells": [
    {
      "cell_type": "markdown",
      "metadata": {
        "id": "view-in-github",
        "colab_type": "text"
      },
      "source": [
        "<a href=\"https://colab.research.google.com/github/Gibur13/Digital-Architecture-for-Distance-Based-Sorting/blob/main/a0.ipynb\" target=\"_parent\"><img src=\"https://colab.research.google.com/assets/colab-badge.svg\" alt=\"Open In Colab\"/></a>"
      ]
    },
    {
      "cell_type": "markdown",
      "metadata": {
        "id": "7irm-4sk8Ffa"
      },
      "source": [
        "##Git and Drive Integration"
      ]
    },
    {
      "cell_type": "code",
      "execution_count": 35,
      "metadata": {
        "id": "FJny0Nxk8IuJ"
      },
      "outputs": [],
      "source": [
        "from __future__ import print_function\n",
        "import argparse\n",
        "import torch\n",
        "import torch.nn as nn\n",
        "import torch.nn.functional as F\n",
        "import torch.optim as optim\n",
        "from torchvision import datasets, transforms\n",
        "from torch.optim.lr_scheduler import StepLR\n",
        "import time"
      ]
    },
    {
      "cell_type": "markdown",
      "metadata": {
        "id": "WERRgUiQLkgH"
      },
      "source": [
        "### Mount google drive"
      ]
    },
    {
      "cell_type": "code",
      "execution_count": 36,
      "metadata": {
        "id": "1ReJf67OJUzd",
        "colab": {
          "base_uri": "https://localhost:8080/"
        },
        "outputId": "b6a970a9-f1b8-464d-a9c4-d95fbabe1feb"
      },
      "outputs": [
        {
          "output_type": "stream",
          "name": "stdout",
          "text": [
            "Drive already mounted at /content/gdrive; to attempt to forcibly remount, call drive.mount(\"/content/gdrive\", force_remount=True).\n"
          ]
        }
      ],
      "source": [
        "# Mount google drive to use a persistent directory structure\n",
        "from google.colab import drive\n",
        "drive.mount('/content/gdrive')"
      ]
    },
    {
      "cell_type": "markdown",
      "metadata": {
        "id": "dOUJ-qFnLqw7"
      },
      "source": [
        "### Clone the assignment repository"
      ]
    },
    {
      "cell_type": "code",
      "execution_count": null,
      "metadata": {
        "id": "PZpt4K8HJ86p"
      },
      "outputs": [],
      "source": [
        "# Create a directory for the course\n",
        "%mkdir /content/gdrive/MyDrive/ece5545\n",
        "%cd /content/gdrive/MyDrive/ece5545\n",
        "\n",
        "# Create files to hold your Github token and username.\n",
        "!echo 'YOUR_TOKEN' > /content/gdrive/MyDrive/ece5545/token.txt\n",
        "!echo 'YOUR_HANDLE' > /content/gdrive/MyDrive/ece5545/git_username.txt\n",
        "\n",
        "# TODO: Navigate to the created files and replace the contents with your token and username.\n",
        "# Do NOT place your token inside of the notebook. This way there is no risk that you will push it to your repo.\n",
        "# Never share your token with anyone, it is basically your github password!"
      ]
    },
    {
      "cell_type": "code",
      "execution_count": null,
      "metadata": {
        "id": "dtX6JKUBt_Pt"
      },
      "outputs": [],
      "source": [
        "with open('/content/gdrive/MyDrive/ece5545/token.txt') as f:\n",
        "    token = f.readline().strip()\n",
        "# Use another file to store your github username\n",
        "with open('/content/gdrive/MyDrive/ece5545/git_username.txt') as f:\n",
        "    handle = f.readline().strip()\n",
        "\n",
        "YOUR_TOKEN = token\n",
        "YOUR_HANDLE = handle\n",
        "\n",
        "!git clone https://{YOUR_TOKEN}@github.com/ML-HW-SYS/a0-{YOUR_HANDLE}.git a0"
      ]
    },
    {
      "cell_type": "markdown",
      "metadata": {
        "id": "eCOS6gDnLvzr"
      },
      "source": [
        "### Add `src` directory to the Python import path"
      ]
    },
    {
      "cell_type": "code",
      "execution_count": 60,
      "metadata": {
        "id": "tZAlavR7KzQ8",
        "colab": {
          "base_uri": "https://localhost:8080/"
        },
        "outputId": "72852817-5a8b-4d94-dfb1-8c99229516ca"
      },
      "outputs": [
        {
          "output_type": "stream",
          "name": "stdout",
          "text": [
            "['/content/gdrive/MyDrive/ece5545/a0/src', '/content/gdrive/MyDrive/ece5545/a0/src', '/content/gdrive/MyDrive/ece5545/a0/src', '/content/gdrive/MyDrive/ece5545/a0/src', '/content/gdrive/MyDrive/ece5545/a0/src', '/content/gdrive/MyDrive/ece5545/a0/src', '/content/gdrive/MyDrive/ece5545/a0/src', '/content', '/env/python', '/usr/lib/python311.zip', '/usr/lib/python3.11', '/usr/lib/python3.11/lib-dynload', '', '/usr/local/lib/python3.11/dist-packages', '/usr/lib/python3/dist-packages', '/usr/local/lib/python3.11/dist-packages/IPython/extensions', '/usr/local/lib/python3.11/dist-packages/setuptools/_vendor', '/root/.ipython', '/tmp/tmpb38jkkv_', '/content/gdrive/MyDrive/ece5545/a0', '/content/gdrive/MyDrive/ece5545/a0/src', '/content/gdrive/MyDrive/ece5545/a0/src', '/content/gdrive/MyDrive/ece5545/a0/src', '/content/gdrive/MyDrive/ece5545/a0/src/src', '/content/gdrive/MyDrive/ece5545/a0/src']\n"
          ]
        }
      ],
      "source": [
        "# import functions from the src directory in repo\n",
        "import sys\n",
        "import os\n",
        "sys.path.insert(0, '/content/gdrive/MyDrive/ece5545/a0/src')\n",
        "print(sys.path)\n"
      ]
    },
    {
      "cell_type": "markdown",
      "metadata": {
        "id": "2xC-uqgYL3n9"
      },
      "source": [
        "### Import functions from `src/train_utils.py`"
      ]
    },
    {
      "cell_type": "code",
      "execution_count": 62,
      "metadata": {
        "id": "4We44OWFLF-1",
        "colab": {
          "base_uri": "https://localhost:8080/",
          "height": 105
        },
        "outputId": "f0fed4ec-9020-4647-f743-a532e67c60a2"
      },
      "outputs": [
        {
          "output_type": "error",
          "ename": "SyntaxError",
          "evalue": "invalid syntax (<ipython-input-62-a10777e85ef3>, line 1)",
          "traceback": [
            "\u001b[0;36m  File \u001b[0;32m\"<ipython-input-62-a10777e85ef3>\"\u001b[0;36m, line \u001b[0;32m1\u001b[0m\n\u001b[0;31m    import /sys.path/train_utils\u001b[0m\n\u001b[0m           ^\u001b[0m\n\u001b[0;31mSyntaxError\u001b[0m\u001b[0;31m:\u001b[0m invalid syntax\n"
          ]
        }
      ],
      "source": [
        "import train_utils\n",
        "from model import *"
      ]
    },
    {
      "cell_type": "markdown",
      "metadata": {
        "id": "hnu4vIr8QJKR"
      },
      "source": [
        "### Make changes to `src` files and push to repo"
      ]
    },
    {
      "cell_type": "code",
      "execution_count": 42,
      "metadata": {
        "id": "CtH2Xy7TQRq7"
      },
      "outputs": [],
      "source": [
        "# You will likely need to set your git user identification settings\n",
        "!git config --global user.email \"ys2335@cornell.edu\"  # update with your email\n",
        "!git config --global user.name \"Yuval Steimberg\"   # update with your name"
      ]
    },
    {
      "cell_type": "code",
      "execution_count": 43,
      "metadata": {
        "id": "8IEDZpwTdF_z",
        "colab": {
          "base_uri": "https://localhost:8080/"
        },
        "outputId": "c68c36d2-6865-4829-d5bd-46ab5fe23272"
      },
      "outputs": [
        {
          "output_type": "stream",
          "name": "stdout",
          "text": [
            "/content/gdrive/MyDrive/ece5545/a0\n",
            "\u001b[1m======================================= test session starts ========================================\u001b[0m\n",
            "platform linux -- Python 3.11.11, pytest-8.3.4, pluggy-1.5.0\n",
            "rootdir: /content/gdrive/MyDrive/ece5545/a0\n",
            "plugins: anyio-3.7.1, typeguard-4.4.1\n",
            "collected 1 item                                                                                   \u001b[0m\n",
            "\n",
            "tests/test_model.py \u001b[32m.\u001b[0m\u001b[32m                                                                        [100%]\u001b[0m\n",
            "\n",
            "\u001b[32m======================================== \u001b[32m\u001b[1m1 passed\u001b[0m\u001b[32m in 1.64s\u001b[0m\u001b[32m =========================================\u001b[0m\n"
          ]
        }
      ],
      "source": [
        "# To run the same tests that are run on Github Classroom\n",
        "%cd /content/gdrive/MyDrive/ece5545/a0\n",
        "!python3 -m pytest"
      ]
    },
    {
      "cell_type": "code",
      "execution_count": 44,
      "metadata": {
        "id": "BfekNg28QJXK",
        "colab": {
          "base_uri": "https://localhost:8080/"
        },
        "outputId": "9ba76380-e5d8-42d2-984d-396ab98bc4e4"
      },
      "outputs": [
        {
          "output_type": "stream",
          "name": "stdout",
          "text": [
            "/content/gdrive/MyDrive/ece5545/a0/src\n",
            "On branch main\n",
            "Your branch is up to date with 'origin/main'.\n",
            "\n",
            "Untracked files:\n",
            "  (use \"git add <file>...\" to include in what will be committed)\n",
            "\t\u001b[31m__pycache__/\u001b[m\n",
            "\t\u001b[31m../tests/__pycache__/\u001b[m\n",
            "\n",
            "nothing added to commit but untracked files present (use \"git add\" to track)\n",
            "Everything up-to-date\n"
          ]
        }
      ],
      "source": [
        "%cd /content/gdrive/MyDrive/ece5545/a0/src\n",
        "# Navigate to a0/src/model.py and fix the bug (denoted by TODO)\n",
        "# in the file then commit the changes below\n",
        "!git commit -am \"fixed bug in model.py\"\n",
        "!git push"
      ]
    },
    {
      "cell_type": "markdown",
      "metadata": {
        "id": "S4U_ErcR8jm4"
      },
      "source": [
        "## Training Configuration"
      ]
    },
    {
      "cell_type": "code",
      "execution_count": 45,
      "metadata": {
        "id": "48UjE1Ub8miw"
      },
      "outputs": [],
      "source": [
        "batch_size = 128\n",
        "epochs = 1\n",
        "lr = 1.0\n",
        "gamma = 0.7\n",
        "no_cuda = False\n",
        "seed = 42\n",
        "log_interval = 50\n",
        "save_model = False\n",
        "dry_run = False\n",
        "\n",
        "# Derived parameters\n",
        "use_cuda = not no_cuda and torch.cuda.is_available()\n",
        "torch.manual_seed(seed)\n",
        "device = torch.device(\"cuda\" if use_cuda else \"cpu\")\n",
        "\n",
        "train_kwargs = {'batch_size': batch_size}\n",
        "test_kwargs = {'batch_size': batch_size}\n",
        "if use_cuda:\n",
        "    cuda_kwargs = {'num_workers': 1,\n",
        "                   'pin_memory': True,\n",
        "                   'shuffle': True}\n",
        "    train_kwargs.update(cuda_kwargs)\n",
        "    test_kwargs.update(cuda_kwargs)"
      ]
    },
    {
      "cell_type": "markdown",
      "metadata": {
        "id": "8Op3rAAv8r6y"
      },
      "source": [
        "## Data Loaders and Optimizer Setup"
      ]
    },
    {
      "cell_type": "code",
      "execution_count": 46,
      "metadata": {
        "id": "bwFBxzFA8yy8",
        "colab": {
          "base_uri": "https://localhost:8080/",
          "height": 207
        },
        "outputId": "0f5b8556-6921-4cec-9c5a-404d18cd29b3"
      },
      "outputs": [
        {
          "output_type": "error",
          "ename": "NameError",
          "evalue": "name 'Net' is not defined",
          "traceback": [
            "\u001b[0;31m---------------------------------------------------------------------------\u001b[0m",
            "\u001b[0;31mNameError\u001b[0m                                 Traceback (most recent call last)",
            "\u001b[0;32m<ipython-input-46-c8c01e64dd0d>\u001b[0m in \u001b[0;36m<cell line: 0>\u001b[0;34m()\u001b[0m\n\u001b[1;32m     10\u001b[0m \u001b[0mtest_loader\u001b[0m \u001b[0;34m=\u001b[0m \u001b[0mtorch\u001b[0m\u001b[0;34m.\u001b[0m\u001b[0mutils\u001b[0m\u001b[0;34m.\u001b[0m\u001b[0mdata\u001b[0m\u001b[0;34m.\u001b[0m\u001b[0mDataLoader\u001b[0m\u001b[0;34m(\u001b[0m\u001b[0mdataset2\u001b[0m\u001b[0;34m,\u001b[0m \u001b[0;34m**\u001b[0m\u001b[0mtest_kwargs\u001b[0m\u001b[0;34m)\u001b[0m\u001b[0;34m\u001b[0m\u001b[0;34m\u001b[0m\u001b[0m\n\u001b[1;32m     11\u001b[0m \u001b[0;34m\u001b[0m\u001b[0m\n\u001b[0;32m---> 12\u001b[0;31m \u001b[0mmodel\u001b[0m \u001b[0;34m=\u001b[0m \u001b[0mNet\u001b[0m\u001b[0;34m(\u001b[0m\u001b[0;34m)\u001b[0m\u001b[0;34m.\u001b[0m\u001b[0mto\u001b[0m\u001b[0;34m(\u001b[0m\u001b[0mdevice\u001b[0m\u001b[0;34m)\u001b[0m\u001b[0;34m\u001b[0m\u001b[0;34m\u001b[0m\u001b[0m\n\u001b[0m\u001b[1;32m     13\u001b[0m \u001b[0moptimizer\u001b[0m \u001b[0;34m=\u001b[0m \u001b[0moptim\u001b[0m\u001b[0;34m.\u001b[0m\u001b[0mAdadelta\u001b[0m\u001b[0;34m(\u001b[0m\u001b[0mmodel\u001b[0m\u001b[0;34m.\u001b[0m\u001b[0mparameters\u001b[0m\u001b[0;34m(\u001b[0m\u001b[0;34m)\u001b[0m\u001b[0;34m,\u001b[0m \u001b[0mlr\u001b[0m\u001b[0;34m=\u001b[0m\u001b[0mlr\u001b[0m\u001b[0;34m)\u001b[0m\u001b[0;34m\u001b[0m\u001b[0;34m\u001b[0m\u001b[0m\n\u001b[1;32m     14\u001b[0m \u001b[0;34m\u001b[0m\u001b[0m\n",
            "\u001b[0;31mNameError\u001b[0m: name 'Net' is not defined"
          ]
        }
      ],
      "source": [
        "transform=transforms.Compose([\n",
        "    transforms.ToTensor(),\n",
        "    transforms.Normalize((0.1307,), (0.3081,))\n",
        "    ])\n",
        "dataset1 = datasets.MNIST('/content/gdrive/MyDrive/ece5545/data', train=True, download=True,\n",
        "                    transform=transform)\n",
        "dataset2 = datasets.MNIST('/content/gdrive/MyDrive/ece5545/data', train=False,\n",
        "                       transform=transform)\n",
        "train_loader = torch.utils.data.DataLoader(dataset1,**train_kwargs)\n",
        "test_loader = torch.utils.data.DataLoader(dataset2, **test_kwargs)\n",
        "\n",
        "model = Net().to(device)\n",
        "optimizer = optim.Adadelta(model.parameters(), lr=lr)\n",
        "\n",
        "scheduler = StepLR(optimizer, step_size=1, gamma=gamma)"
      ]
    },
    {
      "cell_type": "markdown",
      "metadata": {
        "id": "y10wFNoo81-U"
      },
      "source": [
        "## Training Loop"
      ]
    },
    {
      "cell_type": "code",
      "execution_count": null,
      "metadata": {
        "id": "NGnAaTm64X_l"
      },
      "outputs": [],
      "source": [
        "import importlib\n",
        "importlib.reload(train_utils)\n",
        "# we use importlib to make sure that we are loading\n",
        "# the latest version of train_utils after any changes\n",
        "# that you may have done\n",
        "\n",
        "for epoch in range(1, epochs + 1):\n",
        "    train_utils.train(model, device, train_loader, optimizer, epoch, log_interval, dry_run)\n",
        "    train_utils.test(model, device, test_loader)\n",
        "    scheduler.step()\n",
        "\n",
        "if save_model:\n",
        "    torch.save(model.state_dict(), \"mnist_cnn.pt\")"
      ]
    },
    {
      "cell_type": "code",
      "execution_count": null,
      "metadata": {
        "id": "E-AAD7e86Az_"
      },
      "outputs": [],
      "source": [
        "# Diagnostic information about the used GPU device\n",
        "!nvidia-smi"
      ]
    },
    {
      "cell_type": "code",
      "execution_count": null,
      "metadata": {
        "id": "sJFiI9Bs72lL"
      },
      "outputs": [],
      "source": []
    }
  ],
  "metadata": {
    "accelerator": "GPU",
    "colab": {
      "name": "a0.ipynb",
      "provenance": [],
      "include_colab_link": true
    },
    "kernelspec": {
      "display_name": "Python 3",
      "name": "python3"
    },
    "language_info": {
      "name": "python"
    }
  },
  "nbformat": 4,
  "nbformat_minor": 0
}